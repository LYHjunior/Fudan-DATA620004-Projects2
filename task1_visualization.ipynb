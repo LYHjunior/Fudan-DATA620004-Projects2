{
 "cells": [
  {
   "cell_type": "code",
   "execution_count": null,
   "metadata": {},
   "outputs": [],
   "source": [
    "import torch\n",
    "from configs.config_task1 import get_cfg_defaults\n",
    "from data.dataset import load_cifar_dataset\n",
    "from configs.config_task1 import get_cfg_defaults\n"
   ]
  },
  {
   "cell_type": "code",
   "execution_count": null,
   "metadata": {},
   "outputs": [],
   "source": [
    "cfg = get_cfg_defaults()\n",
    "cfg.TRAIN.batch_size = 10"
   ]
  },
  {
   "cell_type": "code",
   "execution_count": null,
   "metadata": {},
   "outputs": [],
   "source": [
    "# load data\n",
    "train_dataset,test_dataset,num_classes = load_cifar_dataset(cfg)\n",
    "test_loader = torch.utils.data.DataLoader(dataset=test_dataset,\n",
    "                                            batch_size=cfg.TRAIN.batch_size,\n",
    "                                            shuffle=False,\n",
    "                                            pin_memory=False,\n",
    "                                            num_workers=2)\n",
    "train_loader = torch.utils.data.DataLoader(dataset=train_dataset,\n",
    "                                            batch_size=cfg.TRAIN.batch_size,\n",
    "                                            shuffle=False,\n",
    "                                            pin_memory=False,\n",
    "                                            num_workers=2)"
   ]
  },
  {
   "cell_type": "code",
   "execution_count": null,
   "metadata": {},
   "outputs": [],
   "source": [
    "import numpy as np\n",
    "def mixup_data( x1, x2,y1,y2,alpha):\n",
    "        '''Returns mixed inputs, pairs of targets, and lambda'''\n",
    "        lam=0.5\n",
    "        mixed_x = lam * x1 + (1 - lam) * x2\n",
    "        y_a, y_b = y1,y2\n",
    "        return mixed_x, (y_a, y_b), lam"
   ]
  },
  {
   "cell_type": "code",
   "execution_count": null,
   "metadata": {},
   "outputs": [],
   "source": [
    "def rand_bbox(size, lam):\n",
    "        W = size[1]\n",
    "        H = size[2]\n",
    "        cut_rat = np.sqrt(1. - lam)\n",
    "        cut_w = np.int(W * cut_rat)\n",
    "        cut_h = np.int(H * cut_rat)\n",
    "\n",
    "        # uniform\n",
    "        cx = np.random.randint(W)\n",
    "        cy = np.random.randint(H)\n",
    "\n",
    "        bbx1 = np.clip(cx - cut_w // 2, 0, W)\n",
    "        bby1 = np.clip(cy - cut_h // 2, 0, H)\n",
    "        bbx2 = np.clip(cx + cut_w // 2, 0, W)\n",
    "        bby2 = np.clip(cy + cut_h // 2, 0, H)\n",
    "\n",
    "        return bbx1, bby1, bbx2, bby2\n",
    "def cutmix_data(x1,x2,y1,y2,lam):\n",
    "    # generate mixed sample\n",
    "    \n",
    "    target_a = y1\n",
    "    target_b = y2\n",
    "    bbx1, bby1, bbx2, bby2 = rand_bbox(x1.size(), lam)\n",
    "    x1[:, bbx1:bbx2, bby1:bby2] = x2[:, bbx1:bbx2, bby1:bby2]\n",
    "    # adjust lambda to exactly match pixel ratio\n",
    "    lam = 1 - ((bbx2 - bbx1) * (bby2 - bby1) / (x1.size()[-1] * x2.size()[-2]))\n",
    "    # compute output\n",
    "    return x1,(target_a,target_b),lam"
   ]
  },
  {
   "cell_type": "code",
   "execution_count": null,
   "metadata": {},
   "outputs": [],
   "source": [
    "# visualize\n",
    "import torch\n",
    "import matplotlib.pyplot as plt\n",
    "from torchvision.utils import make_grid\n",
    "from torch.utils.data import DataLoader\n",
    "from torchvision import datasets, transforms\n",
    "from data.argument_type import Cutout,Mixup,Cutmix\n",
    "\n",
    "images, labels = next(iter(train_loader))\n",
    "mix_images, mix_labels = next(iter(test_loader))\n",
    "print(images.size())  # torch.Size([9, 1, 28, 28])\n",
    "plt.figure(figsize=(9, 9))\n",
    "cutout = Cutout(1,16)\n",
    "mixup = Mixup(alpha=0.5)\n",
    "for i in range(3,6):\n",
    "    plt.subplot(5, 3, i-2)\n",
    "    plt.title(labels[i].item())\n",
    "    plt.imshow(images[i].permute(1, 2, 0))\n",
    "    plt.axis('off')\n",
    "\n",
    "cutout_images = images.clone()\n",
    "for i in range(3,6):\n",
    "    cutout_images[i] = cutout(cutout_images[i])\n",
    "    plt.subplot(5, 3, i+1)\n",
    "    plt.title(labels[i].item())\n",
    "    plt.imshow(cutout_images[i].permute(1, 2, 0))\n",
    "    plt.axis('off')\n",
    "mixup_images = images.clone()\n",
    "for i in range(3,6):\n",
    "    mixup_images[i],mixup_labels,lam = mixup_data(images[i],mix_images[i],labels[i],mix_labels[i],alpha=0.5)\n",
    "    print(lam)\n",
    "    plt.subplot(5, 3, i+4)\n",
    "    plt.title((mixup_labels[0].item(),mixup_labels[1].item()))\n",
    "    plt.imshow(mixup_images[i].permute(1, 2, 0))\n",
    "    plt.axis('off')\n",
    "\n",
    "for i in range(3,6):\n",
    "    cutmix_img,mixup_labels,lam = cutmix_data(images[i],mix_images[i],labels[i],mix_labels[i],lam=0.5)\n",
    "    plt.subplot(5, 3, i+7)\n",
    "    plt.title((mixup_labels[0].item(),mixup_labels[1].item()))\n",
    "    plt.imshow(cutmix_img.permute(1, 2, 0))\n",
    "    plt.axis('off')\n",
    "\n",
    "for i in range(3,6):\n",
    "    plt.subplot(5, 3, i+10)\n",
    "    plt.title(mix_labels[i].item())\n",
    "    plt.imshow(mix_images[i].permute(1, 2, 0))\n",
    "    plt.axis('off')\n",
    "plt.show()"
   ]
  }
 ],
 "metadata": {
  "interpreter": {
   "hash": "45cef623ff2c97359ab056175d14e5d900ca6fdbbc48872ff5c1046e151fabba"
  },
  "kernelspec": {
   "display_name": "Python 3.7.11 ('cuda11.2')",
   "language": "python",
   "name": "python3"
  },
  "language_info": {
   "codemirror_mode": {
    "name": "ipython",
    "version": 3
   },
   "file_extension": ".py",
   "mimetype": "text/x-python",
   "name": "python",
   "nbconvert_exporter": "python",
   "pygments_lexer": "ipython3",
   "version": "3.7.13"
  },
  "orig_nbformat": 4
 },
 "nbformat": 4,
 "nbformat_minor": 2
}
